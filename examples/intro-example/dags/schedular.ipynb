{
  "cells": [
    {
      "cell_type": "code",
      "source": [
        "import schedule\n",
        "import papermill as pm\n",
        "import threading"
      ],
      "outputs": [],
      "execution_count": 1,
      "metadata": {
        "inputHidden": false,
        "outputHidden": false
      }
    },
    {
      "cell_type": "code",
      "source": [
        "def JobA():\n",
        "    print(\"Job A Done\")\n",
        "    \n",
        "def JobB():\n",
        "    print(\"Job B done\")\n",
        "    \n",
        "def JobC():\n",
        "    print(\"Job C done\")\n",
        "    \n",
        "def JobD():\n",
        "    print(\"Job D done\")"
      ],
      "outputs": [],
      "execution_count": 2,
      "metadata": {
        "inputHidden": false,
        "outputHidden": false
      }
    },
    {
      "cell_type": "code",
      "source": [
        "#def job_threaded(job_f):\n",
        "#    job_thread=threading.Thread(target=job_f)\n",
        "#    job_thread.start()  \n",
        "        "
      ],
      "outputs": [],
      "execution_count": 3,
      "metadata": {
        "inputHidden": false,
        "outputHidden": false,
        "tags": [
          "parameters"
        ]
      }
    },
    {
      "cell_type": "code",
      "source": [
        "#schedule.every(time1).seconds.do(job_threaded,JobA)\n",
        "#schedule.every(time2).minutes.do(job_threaded,JobB)\n",
        "#schedule.every(time3).hours.do(job_threaded,JobC)\n",
        "#schedule.every().monday.do(job_threaded,JobD)"
      ],
      "outputs": [],
      "execution_count": 4,
      "metadata": {
        "inputHidden": false,
        "outputHidden": false
      }
    },
    {
      "cell_type": "code",
      "source": [
        "#while 1:\n",
        "#   schedule.run_pending()    "
      ],
      "outputs": [],
      "execution_count": 5,
      "metadata": {}
    },
    {
      "cell_type": "code",
      "source": [
        "JobA()\n",
        "JobB()\n",
        "JobC()\n",
        "JobD()"
      ],
      "outputs": [
        {
          "output_type": "stream",
          "name": "stdout",
          "text": [
            "Job A Done\n",
            "Job B done\n",
            "Job C done\n",
            "Job D done\n"
          ]
        }
      ],
      "execution_count": 6,
      "metadata": {}
    },
    {
      "cell_type": "code",
      "source": [],
      "outputs": [],
      "execution_count": null,
      "metadata": {
        "collapsed": false,
        "outputHidden": false,
        "inputHidden": false
      }
    }
  ],
  "metadata": {
    "celltoolbar": "Tags",
    "kernel_info": {
      "name": "python3"
    },
    "kernelspec": {
      "name": "python3",
      "language": "python",
      "display_name": "Python 3"
    },
    "language_info": {
      "name": "python",
      "version": "3.7.4",
      "mimetype": "text/x-python",
      "codemirror_mode": {
        "name": "ipython",
        "version": 3
      },
      "pygments_lexer": "ipython3",
      "nbconvert_exporter": "python",
      "file_extension": ".py"
    },
    "nteract": {
      "version": "0.15.0"
    }
  },
  "nbformat": 4,
  "nbformat_minor": 1
}